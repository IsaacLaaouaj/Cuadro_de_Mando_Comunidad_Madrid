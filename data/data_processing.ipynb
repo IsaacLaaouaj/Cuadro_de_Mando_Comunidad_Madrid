{
 "cells": [
  {
   "cell_type": "code",
   "execution_count": null,
   "metadata": {},
   "outputs": [],
   "source": [
    "import pandas as pd\n",
    "import os\n",
    "\n",
    "# Ruta de la carpeta que contiene los archivos CSV\n",
    "carpeta = 'Peatones'\n",
    "\n",
    "# Lista de nombres de los archivos CSV en orden cronológico\n",
    "archivos = [\n",
    "    'PEATONES_2019.csv',\n",
    "    'PEATONES_2020.csv',\n",
    "    'PEATONES_2021.csv',\n",
    "    'PEATONES_2022.csv',\n",
    "    'PEATONES_2023.csv',\n",
    "    'PEATONES_2024.csv'\n",
    "]\n",
    "\n",
    "# Lista vacía para almacenar los DataFrames\n",
    "lista_dfs = []\n",
    "\n",
    "# Leer cada archivo CSV y agregarlo a la lista\n",
    "for archivo in archivos:\n",
    "    # Crear la ruta completa del archivo\n",
    "    ruta_archivo = os.path.join(carpeta, archivo)\n",
    "    \n",
    "    # Leer el CSV y agregarlo a la lista\n",
    "    df = pd.read_csv(ruta_archivo, delimiter=\";\")\n",
    "    lista_dfs.append(df)\n",
    "\n",
    "# Concatenar todos los DataFrames en uno solo\n",
    "df_combinado = pd.concat(lista_dfs, ignore_index=True)\n",
    "\n",
    "# Opcional: Guardar el DataFrame combinado en un nuevo CSV\n",
    "df_combinado.to_csv(os.path.join(carpeta, 'PEATONES_combinados.csv'), index=False)"
   ]
  },
  {
   "cell_type": "code",
   "execution_count": 11,
   "metadata": {},
   "outputs": [
    {
     "data": {
      "text/plain": [
       "Index(['FECHA', 'HORA', 'IDENTIFICADOR', 'PEATONES', 'NÚMERO_DISTRITO',\n",
       "       'DISTRITO', 'NOMBRE_VIAL', 'NÚMERO', 'CÓDIGO_POSTAL',\n",
       "       'OBSERVACIONES_DIRECCION', 'LATITUD', 'LONGITUD', 'fecha', 'hora',\n",
       "       'identificador', 'peatones', 'device_id', 'NÃºmero_distrito',\n",
       "       'distrito', 'direccion', 'observaciones_direccion', 'latitude',\n",
       "       'longitude', 'Número_distrito'],\n",
       "      dtype='object')"
      ]
     },
     "execution_count": 11,
     "metadata": {},
     "output_type": "execute_result"
    }
   ],
   "source": [
    "df_combinado.columns"
   ]
  }
 ],
 "metadata": {
  "kernelspec": {
   "display_name": "Python 3",
   "language": "python",
   "name": "python3"
  },
  "language_info": {
   "codemirror_mode": {
    "name": "ipython",
    "version": 3
   },
   "file_extension": ".py",
   "mimetype": "text/x-python",
   "name": "python",
   "nbconvert_exporter": "python",
   "pygments_lexer": "ipython3",
   "version": "3.11.2"
  }
 },
 "nbformat": 4,
 "nbformat_minor": 2
}
